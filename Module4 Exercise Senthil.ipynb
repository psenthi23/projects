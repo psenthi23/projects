{
 "cells": [
  {
   "cell_type": "markdown",
   "metadata": {},
   "source": [
    "### Module 4 Exercise"
   ]
  },
  {
   "cell_type": "markdown",
   "metadata": {},
   "source": [
    "1. How many occurences of \"row\" is in \"Row, row, row your boat. Gently down the stream. Merrily, merrily, merrily, merrily. Life is but a dream. Row, row, row your boat. Gently up the creek.\" "
   ]
  },
  {
   "cell_type": "code",
   "execution_count": 2,
   "metadata": {},
   "outputs": [
    {
     "ename": "NameError",
     "evalue": "name 'row' is not defined",
     "output_type": "error",
     "traceback": [
      "\u001b[1;31m---------------------------------------------------------------------------\u001b[0m",
      "\u001b[1;31mNameError\u001b[0m                                 Traceback (most recent call last)",
      "\u001b[1;32m~\\AppData\\Local\\Temp/ipykernel_13300/1764875026.py\u001b[0m in \u001b[0;36m<module>\u001b[1;34m\u001b[0m\n\u001b[0;32m      2\u001b[0m \u001b[1;33m\u001b[0m\u001b[0m\n\u001b[0;32m      3\u001b[0m \u001b[1;33m\u001b[0m\u001b[0m\n\u001b[1;32m----> 4\u001b[1;33m \u001b[0mx\u001b[0m \u001b[1;33m=\u001b[0m \u001b[0mpoem\u001b[0m\u001b[1;33m.\u001b[0m\u001b[0mcount\u001b[0m\u001b[1;33m(\u001b[0m\u001b[0mrow\u001b[0m\u001b[1;33m)\u001b[0m\u001b[1;33m\u001b[0m\u001b[1;33m\u001b[0m\u001b[0m\n\u001b[0m\u001b[0;32m      5\u001b[0m \u001b[1;33m\u001b[0m\u001b[0m\n\u001b[0;32m      6\u001b[0m \u001b[0mprint\u001b[0m\u001b[1;33m(\u001b[0m\u001b[0mx\u001b[0m\u001b[1;33m)\u001b[0m\u001b[1;33m\u001b[0m\u001b[1;33m\u001b[0m\u001b[0m\n",
      "\u001b[1;31mNameError\u001b[0m: name 'row' is not defined"
     ]
    }
   ],
   "source": [
    "poem= [\"Row, row, row your boat. Gently down the stream. Merrily, merrily, merrily, merrily. Life is but a dream. Row, row, row your boat. Gently up the creek.\"]\n",
    "\n",
    "\n",
    "x = poem.count(row)\n",
    "\n",
    "print(x)"
   ]
  },
  {
   "cell_type": "markdown",
   "metadata": {},
   "source": [
    "2. Ask a user for a name, color, and an animal.  <br>\n",
    "Then using string format method per each line, show following:<br>\n",
    "<b><i>name</i></b> had a little <b><i>animal</i></b>. <br>\n",
    "It was <b><i>color</i></b> as snow. <br>\n",
    "And everywhere that <b><i>name</i></b> went, the <b><i>animal</i></b> was sure to go."
   ]
  },
  {
   "cell_type": "code",
   "execution_count": 10,
   "metadata": {},
   "outputs": [
    {
     "name": "stdout",
     "output_type": "stream",
     "text": [
      "Enter the name: elephant\n",
      "Enter the color: grey\n",
      "Enter the animal: goose\n",
      "elephant had a little goose. \n",
      "It was grey as snow.\n",
      "And everywhere that elephant went, the goose was sure to go.\n"
     ]
    }
   ],
   "source": [
    "#formatting the text using string format method\n",
    "text=\"{name} had a little {animal}. \\nIt was {color} as snow.\\nAnd everywhere that {name} went, the {animal} was sure to go.\".format(name=input(\"Enter the name: \"),color=input(\"Enter the color: \"),animal=input(\"Enter the animal: \"))\n",
    "#print the text\n",
    "print(text)"
   ]
  },
  {
   "cell_type": "markdown",
   "metadata": {},
   "source": [
    "3. Print 3.14159 in a scientific number notation "
   ]
  },
  {
   "cell_type": "code",
   "execution_count": 8,
   "metadata": {},
   "outputs": [
    {
     "name": "stdout",
     "output_type": "stream",
     "text": [
      "3.141590e+00\n"
     ]
    }
   ],
   "source": [
    "print(\"{:e}\".format(3.14159))\n"
   ]
  },
  {
   "cell_type": "markdown",
   "metadata": {},
   "source": [
    "4. Print 3.1559 in 3 decimal places"
   ]
  },
  {
   "cell_type": "code",
   "execution_count": 5,
   "metadata": {},
   "outputs": [
    {
     "name": "stdout",
     "output_type": "stream",
     "text": [
      "3.156\n"
     ]
    }
   ],
   "source": [
    "print(\"{:.3f}\".format(3.1559))"
   ]
  },
  {
   "cell_type": "markdown",
   "metadata": {},
   "source": [
    "5. Print 1589.92341 in a scientific number notation to the power of 3"
   ]
  },
  {
   "cell_type": "code",
   "execution_count": 6,
   "metadata": {},
   "outputs": [
    {
     "name": "stdout",
     "output_type": "stream",
     "text": [
      "4.019098e+09\n"
     ]
    }
   ],
   "source": [
    "print(\"{:e}\".format(pow(1589.92341,3)))"
   ]
  },
  {
   "cell_type": "markdown",
   "metadata": {},
   "source": [
    "6. Convert 39 to a binary number using floor division and mod operators. Then, compare your answer using bin() and int() functions."
   ]
  },
  {
   "cell_type": "code",
   "execution_count": 7,
   "metadata": {},
   "outputs": [
    {
     "ename": "IndentationError",
     "evalue": "expected an indented block (Temp/ipykernel_13300/1803319159.py, line 5)",
     "output_type": "error",
     "traceback": [
      "\u001b[1;36m  File \u001b[1;32m\"C:\\Users\\Pranav\\AppData\\Local\\Temp/ipykernel_13300/1803319159.py\"\u001b[1;36m, line \u001b[1;32m5\u001b[0m\n\u001b[1;33m    remainder = number % 2\u001b[0m\n\u001b[1;37m    ^\u001b[0m\n\u001b[1;31mIndentationError\u001b[0m\u001b[1;31m:\u001b[0m expected an indented block\n"
     ]
    }
   ],
   "source": [
    "number=39\n",
    "result=\"\"\n",
    "#using the floor and mod opeerators calculate the binary equivalent of 39\n",
    "while number != 0:\n",
    "remainder = number % 2\n",
    "number = number // 2\n",
    "result = str(remainder) + result\n",
    "#display the results\n",
    "print(\"The result of floor division and mod operators: \"+result)\n",
    "print(\"The result of bin() and int() functions: \"+bin(int(39)))"
   ]
  },
  {
   "cell_type": "markdown",
   "metadata": {},
   "source": [
    "7. Convert 39 to an octal number using floor division and mod operators. Then, compare your answer using oct() and int() functions."
   ]
  },
  {
   "cell_type": "code",
   "execution_count": 12,
   "metadata": {},
   "outputs": [
    {
     "ename": "IndentationError",
     "evalue": "expected an indented block (Temp/ipykernel_13300/1829629622.py, line 5)",
     "output_type": "error",
     "traceback": [
      "\u001b[1;36m  File \u001b[1;32m\"C:\\Users\\Pranav\\AppData\\Local\\Temp/ipykernel_13300/1829629622.py\"\u001b[1;36m, line \u001b[1;32m5\u001b[0m\n\u001b[1;33m    remainder = number % 8\u001b[0m\n\u001b[1;37m    ^\u001b[0m\n\u001b[1;31mIndentationError\u001b[0m\u001b[1;31m:\u001b[0m expected an indented block\n"
     ]
    }
   ],
   "source": [
    "number=39\n",
    "result=\"\"\n",
    "#using the floor and mod opeerators calculate the octal equivalent of 39\n",
    "while number != 0:\n",
    "remainder = number % 8\n",
    "number = number // 8\n",
    "result = str(remainder) + result\n",
    "#display the results\n",
    "print(\"The result of floor division and mod operators: \"+result)\n",
    "print(\"The result of bin() and int() functions: \"+oct(int(39)))"
   ]
  },
  {
   "cell_type": "markdown",
   "metadata": {},
   "source": [
    "8. Convert 39 to a hexadecimal number using floor division and mod operators. Then, compare your answer using hex() and int() functions."
   ]
  },
  {
   "cell_type": "code",
   "execution_count": 11,
   "metadata": {},
   "outputs": [
    {
     "ename": "IndentationError",
     "evalue": "expected an indented block (Temp/ipykernel_13300/3182965040.py, line 5)",
     "output_type": "error",
     "traceback": [
      "\u001b[1;36m  File \u001b[1;32m\"C:\\Users\\Pranav\\AppData\\Local\\Temp/ipykernel_13300/3182965040.py\"\u001b[1;36m, line \u001b[1;32m5\u001b[0m\n\u001b[1;33m    remainder = number % 16\u001b[0m\n\u001b[1;37m    ^\u001b[0m\n\u001b[1;31mIndentationError\u001b[0m\u001b[1;31m:\u001b[0m expected an indented block\n"
     ]
    }
   ],
   "source": [
    "number=39\n",
    "result=\"\"\n",
    "#using the floor and mod operators calculate the hexadecimal equivalent of 39\n",
    "while number != 0:\n",
    "remainder = number % 16\n",
    "number = number // 16\n",
    "if(remainder<10):\n",
    "result = str(remainder) + result\n",
    "elif(remainder==10):\n",
    "result='A'+result\n",
    "elif(remainder==11):\n",
    "result='B'+result\n",
    "elif(remainder==12):\n",
    "result='C'+result\n",
    "elif(remainder==13):\n",
    "result='D'+result\n",
    "elif(remainder==14):\n",
    "result='E'+result\n",
    "elif(remainder==15):\n",
    "result='F'+result\n",
    "#display the results\n",
    "print(\"The result of floor division and mod operators: \"+result)\n",
    "print(\"The result of bin() and int() functions: \"+hex(int(39)))"
   ]
  },
  {
   "cell_type": "markdown",
   "metadata": {},
   "source": [
    "9. Ask a user for an amount and a tax rate in percentage. Then, display the amount, rate in percentage, calculated tax amount, and the total (amount + tax amount) in one <b>nice</b> formmated print statement."
   ]
  },
  {
   "cell_type": "code",
   "execution_count": 9,
   "metadata": {},
   "outputs": [
    {
     "name": "stdout",
     "output_type": "stream",
     "text": [
      "Enter the amount: 20\n",
      "Enter a tax rate in percentage: 5\n",
      "Amount: 20.0\n",
      "Tax Rate: 5.0 %\n",
      "Tax Amount: 1.0\n",
      "Total Amount: 21.0\n"
     ]
    }
   ],
   "source": [
    "amount=float(input(\"Enter the amount: \"))\n",
    "\n",
    "    taxrate=float(input(\"Enter a tax rate in percentage: \"))\n",
    "\n",
    "        #calculate taxamount and total\n",
    "\n",
    "            taxamount=amount*(taxrate/100)\n",
    "\n",
    "                total=amount+taxamount\n",
    "#display the results\n",
    "print(\"Amount: \"+str(amount)+\"\\nTax Rate: \"+str(taxrate)+\" %\\nTax Amount: \"+str(taxamount)+\"\\nTotal Amount: \"+str(total))"
   ]
  }
 ],
 "metadata": {
  "kernelspec": {
   "display_name": "Python 3 (ipykernel)",
   "language": "python",
   "name": "python3"
  },
  "language_info": {
   "codemirror_mode": {
    "name": "ipython",
    "version": 3
   },
   "file_extension": ".py",
   "mimetype": "text/x-python",
   "name": "python",
   "nbconvert_exporter": "python",
   "pygments_lexer": "ipython3",
   "version": "3.9.7"
  }
 },
 "nbformat": 4,
 "nbformat_minor": 4
}
