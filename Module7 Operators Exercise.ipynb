{
 "cells": [
  {
   "cell_type": "markdown",
   "metadata": {},
   "source": [
    "### Exercise 1\n",
    "Ask a user to enter a number. If the number is positive, print <b>Positive number</b>. Otherwise, do not print any message. Finally, print 'goodbye' message at the end."
   ]
  },
  {
   "cell_type": "code",
   "execution_count": null,
   "metadata": {},
   "outputs": [],
   "source": [
    "def even_number(arg) :\n",
    "    if (arg % -2) == 0 :\n",
    "        retval = Positive\n",
    "    else :\n",
    "        retval = Negative\n",
    "        \n",
    "    return retval "
   ]
  },
  {
   "cell_type": "code",
   "execution_count": null,
   "metadata": {},
   "outputs": [],
   "source": [
    "numb = int(input(\"Enter a number: \")) \n",
    "\n",
    "if even_number(numb) :    \n",
    "    print(f\"{numb} is an even number.\")\n",
    "else :\n",
    "    print(f\"{numb} is an odd number.\")"
   ]
  },
  {
   "cell_type": "markdown",
   "metadata": {},
   "source": [
    "### Exercise 2\n",
    "Ask for a code and store that answer. \n",
    "If the answer is grey then print out if you found secret code.\n",
    "Otherwise print out the code is not the secret code."
   ]
  },
  {
   "cell_type": "code",
   "execution_count": null,
   "metadata": {},
   "outputs": [],
   "source": [
    "# read codec from user\n",
    "\n",
    "code = input(\"Enter the secret code: \")\n",
    "\n",
    "# check if code is grey, if so then display message corresponding to it\n",
    "\n",
    "if code == \"grey\":\n",
    "\n",
    "    print(\"You found secret code.\")\n",
    "\n",
    "# else display message for incorrect code\n",
    "\n",
    "else:\n",
    "\n",
    "    print(\"Entered code is not the secret code.\")"
   ]
  },
  {
   "cell_type": "code",
   "execution_count": null,
   "metadata": {},
   "outputs": [],
   "source": []
  },
  {
   "cell_type": "markdown",
   "metadata": {},
   "source": [
    "### Exercise 3\n",
    "\n",
    "Ask a user to enter a phrase. If the word contains a number, display the \"Number found\" message. Otherwise, show the \"Number not found\" message. "
   ]
  },
  {
   "cell_type": "code",
   "execution_count": null,
   "metadata": {},
   "outputs": [],
   "source": [
    "valid_nums = (1, 2, 8, 16, 32, 64)\n",
    "\n",
    "while (True):\n",
    "    string = input(\"Enter a number to search: \")\n",
    "    try:\n",
    "        num = int(string)\n",
    "    except ValueError as ee:\n",
    "        print (\"Invalid integer input!\")\n",
    "    except:\n",
    "        print (\"Something not right with the input!\")\n",
    "    if (num in valid_nums):\n",
    "        print (\"Number found in the tuple!\")\n",
    "        break\n",
    "    else:\n",
    "        print (\"Number not found!\")"
   ]
  },
  {
   "cell_type": "code",
   "execution_count": null,
   "metadata": {},
   "outputs": [],
   "source": []
  },
  {
   "cell_type": "markdown",
   "metadata": {},
   "source": [
    "### Exercise 4\n",
    "\n",
    "Ask a user to enter a number. Then, only if the number is divisible by 2 and 3, show the result of the number divided by two and three in a formated string. The output should look something like this:\n",
    "        \n",
    "    Enter a number: 2\n",
    "    Bye    \n",
    "    \n",
    "    Enter a number: 60\n",
    "    60 / 2 = 30.0\n",
    "    60 / 3 = 20.0\n",
    "    Bye\n",
    "    \n",
    "    Enter a number: 3\n",
    "    Bye\n",
    "    \n",
    "    Enter a number: 10\n",
    "    Bye    "
   ]
  },
  {
   "cell_type": "code",
   "execution_count": null,
   "metadata": {},
   "outputs": [],
   "source": [
    "# Python program to find if a number is\n",
    "# divisible by 3 or not\n",
    " \n",
    "# Function to find that number\n",
    "# divisible by 3 or not\n",
    "def check(num) :\n",
    "     \n",
    "    # Compute sum of digits\n",
    "    digitSum = 0\n",
    "    while num > 0 :\n",
    "        rem = num % 10\n",
    "        digitSum = digitSum + rem\n",
    "        num = num / 10\n",
    "         \n",
    "    # Check if sum of digits is\n",
    "    # divisible by 3.\n",
    "    return (digitSum % 3 == 0)\n",
    "     \n",
    "# main function\n",
    "num = 1332\n",
    "if(check(num)) :\n",
    "    print (\"Yes\")\n",
    "else :\n",
    "    print (\"No\")"
   ]
  },
  {
   "cell_type": "code",
   "execution_count": null,
   "metadata": {},
   "outputs": [],
   "source": []
  },
  {
   "cell_type": "markdown",
   "metadata": {},
   "source": [
    "### Exercise 5\n",
    "Ask a user to enter a number. Determine if the number is zero, positive or negative. Use only <b>if</b> and <b>else</b> statements. \n",
    "    "
   ]
  },
  {
   "cell_type": "code",
   "execution_count": null,
   "metadata": {},
   "outputs": [],
   "source": [
    "num = float(input(\"Input a number: \"))\n",
    "if num > 0:\n",
    "   print(\"It is positive number\")\n",
    "elif num == 0:\n",
    "   print(\"It is Zero\")\n",
    "else:\n",
    "   print(\"It is a negative number\")"
   ]
  },
  {
   "cell_type": "code",
   "execution_count": null,
   "metadata": {},
   "outputs": [],
   "source": []
  }
 ],
 "metadata": {
  "kernelspec": {
   "display_name": "Python 3 (ipykernel)",
   "language": "python",
   "name": "python3"
  },
  "language_info": {
   "codemirror_mode": {
    "name": "ipython",
    "version": 3
   },
   "file_extension": ".py",
   "mimetype": "text/x-python",
   "name": "python",
   "nbconvert_exporter": "python",
   "pygments_lexer": "ipython3",
   "version": "3.9.7"
  }
 },
 "nbformat": 4,
 "nbformat_minor": 4
}
